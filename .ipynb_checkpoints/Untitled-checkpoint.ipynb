{
 "cells": [
  {
   "cell_type": "code",
   "execution_count": 13,
   "metadata": {},
   "outputs": [],
   "source": [
    "import torch\n",
    "from torch.autograd import Variable\n",
    "import torch.nn as nn\n",
    "import torch.optim as optim\n",
    "import torch.nn.functional as F\n",
    "\n",
    "#import spacy\n",
    "#import gensim\n",
    "\n",
    "import numpy as np\n",
    "import pandas as pd\n",
    "import matplotlib.pyplot as plt\n",
    "\n",
    "%matplotlib inline"
   ]
  },
  {
   "cell_type": "code",
   "execution_count": 15,
   "metadata": {},
   "outputs": [
    {
     "name": "stdout",
     "output_type": "stream",
     "text": [
      "Variable containing:\n",
      " 1\n",
      " 1\n",
      " 1\n",
      "[torch.FloatTensor of size 3]\n",
      "\n",
      "None\n"
     ]
    }
   ],
   "source": [
    "torch.manual_seed(445)\n",
    "\n",
    "a = torch.ones(3)\n",
    "b = Variable(torch.ones(3), requires_grad=True)\n",
    "print(b)\n",
    "print(b.grad_fn)"
   ]
  },
  {
   "cell_type": "code",
   "execution_count": 16,
   "metadata": {},
   "outputs": [
    {
     "data": {
      "text/plain": [
       "\n",
       " 1.0000\n",
       " 3.0000\n",
       " 4.6000\n",
       "[torch.FloatTensor of size 3]"
      ]
     },
     "execution_count": 16,
     "metadata": {},
     "output_type": "execute_result"
    }
   ],
   "source": [
    "x_data = [1, 3, 4.6]\n",
    "\n",
    "T = torch.Tensor(x_data)\n",
    "T"
   ]
  },
  {
   "cell_type": "code",
   "execution_count": 26,
   "metadata": {},
   "outputs": [
    {
     "name": "stdout",
     "output_type": "stream",
     "text": [
      "\n",
      "  7.0000\n",
      "  9.0000\n",
      " 10.6000\n",
      "[torch.FloatTensor of size 3]\n",
      "\n",
      "\n",
      " 5.0000\n",
      " 7.0000\n",
      " 8.6000\n",
      "[torch.FloatTensor of size 3]\n",
      "\n",
      "\n",
      "  7.0000\n",
      "  9.0000\n",
      " 10.6000\n",
      "[torch.FloatTensor of size 3]\n",
      "\n",
      "\n",
      "  7.0000\n",
      "  9.0000\n",
      " 10.6000\n",
      "[torch.FloatTensor of size 3]\n",
      "\n"
     ]
    }
   ],
   "source": [
    "print(T.add(2))\n",
    "print(T)\n",
    "print(T.add_(2))  # inplace addition\n",
    "print(T)"
   ]
  },
  {
   "cell_type": "code",
   "execution_count": null,
   "metadata": {},
   "outputs": [],
   "source": []
  }
 ],
 "metadata": {
  "kernelspec": {
   "display_name": "Python 3",
   "language": "python",
   "name": "python3"
  },
  "language_info": {
   "name": ""
  }
 },
 "nbformat": 4,
 "nbformat_minor": 2
}
