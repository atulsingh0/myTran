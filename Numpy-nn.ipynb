{
 "cells": [
  {
   "cell_type": "code",
   "execution_count": 17,
   "metadata": {},
   "outputs": [],
   "source": [
    "import numpy as np\n",
    "from sklearn import datasets\n",
    "import pandas as pd\n",
    "from sklearn.cross_validation import train_test_split\n",
    "from sklearn.externals import joblib"
   ]
  },
  {
   "cell_type": "code",
   "execution_count": 2,
   "metadata": {},
   "outputs": [],
   "source": [
    "iris = datasets.load_iris()"
   ]
  },
  {
   "cell_type": "code",
   "execution_count": 6,
   "metadata": {},
   "outputs": [
    {
     "data": {
      "text/plain": [
       "['sepal length (cm)',\n",
       " 'sepal width (cm)',\n",
       " 'petal length (cm)',\n",
       " 'petal width (cm)']"
      ]
     },
     "execution_count": 6,
     "metadata": {},
     "output_type": "execute_result"
    }
   ],
   "source": [
    "data = iris.data\n",
    "target = iris.target\n",
    "header = iris.feature_names\n",
    "header"
   ]
  },
  {
   "cell_type": "code",
   "execution_count": 4,
   "metadata": {},
   "outputs": [
    {
     "name": "stdout",
     "output_type": "stream",
     "text": [
      "[[ 5.1  3.5  1.4  0.2]\n",
      " [ 4.9  3.   1.4  0.2]]\n"
     ]
    }
   ],
   "source": [
    "print(data[:2])"
   ]
  },
  {
   "cell_type": "code",
   "execution_count": 11,
   "metadata": {},
   "outputs": [],
   "source": [
    "train_x, test_x, train_y, test_y = train_test_split(data, target, test_size=0.2\n",
    "                                                   )"
   ]
  },
  {
   "cell_type": "code",
   "execution_count": 12,
   "metadata": {},
   "outputs": [
    {
     "name": "stdout",
     "output_type": "stream",
     "text": [
      "120 120 30 30\n",
      "(120,)\n"
     ]
    }
   ],
   "source": [
    "print(len(train_x), len(train_y), len(test_x), len(test_y))\n",
    "print(train_y.shape)"
   ]
  },
  {
   "cell_type": "code",
   "execution_count": 14,
   "metadata": {},
   "outputs": [],
   "source": [
    "idim = train_x.shape[0]\n",
    "hdim = 100\n",
    "odim = len(np.unique(train_y))\n",
    "\n",
    "alpha = 0.01 # learning rate\n",
    "reg_lambda = 0.01 # Regularization hyper parameter"
   ]
  },
  {
   "cell_type": "code",
   "execution_count": 16,
   "metadata": {},
   "outputs": [],
   "source": [
    "np.random.seed(123)\n",
    "model = {'W1':None, 'b1':None, 'W2': None, 'b2':None}"
   ]
  },
  {
   "cell_type": "markdown",
   "metadata": {},
   "source": [
    "$ Y = b + WX $"
   ]
  },
  {
   "cell_type": "code",
   "execution_count": 18,
   "metadata": {},
   "outputs": [],
   "source": [
    "def forward_prop(model, x):\n",
    "    W1, b1, W2, b2 = model['W1'], model['b1'], model['W2'], model['b2']\n",
    "    \n",
    "    # inp & hidden layer\n",
    "    z1 = x.dot(W1)+b1\n",
    "    a1 = np.tanh(z1)\n",
    "    \n",
    "    # hidden layer & output\n",
    "    z2 = a1.dot(W2)+b2\n",
    "    exp_scores = np.exp(z2)\n",
    "    probs = exp_scores/np.sum(exp_scores, axis=1, keepdims=True)\n",
    "    \n",
    "    return probs  \n",
    "    "
   ]
  },
  {
   "cell_type": "code",
   "execution_count": 25,
   "metadata": {},
   "outputs": [],
   "source": [
    "def get_loss(model, x):\n",
    "    probs = forward_prop(model, x)\n",
    "    \n",
    "    targets = -np.log(probs[range(train_x), train_y])\n",
    "    loss = np.sum(targets)\n",
    "    \n",
    "    loss += reg_lambda/2 * (np.sum(np.square(model['W1'])) + np.sum(np.square(model['W2'])))\n",
    "    \n",
    "    return 1./len(train_X) * loss\n",
    "    "
   ]
  },
  {
   "cell_type": "code",
   "execution_count": 21,
   "metadata": {},
   "outputs": [],
   "source": [
    "def predict(model, x):\n",
    "    probs = forward_prop(model, x)\n",
    "\n",
    "    return np.argmax(probs, axis=1)\n",
    "    "
   ]
  },
  {
   "cell_type": "code",
   "execution_count": 24,
   "metadata": {},
   "outputs": [],
   "source": [
    "def get_accuract(model, x):\n",
    "    prediction = predict(model, x)\n",
    "    accuracy = np.sum(prediction == y)/len(x)\n",
    "    \n",
    "    return accuracy"
   ]
  },
  {
   "cell_type": "code",
   "execution_count": 27,
   "metadata": {},
   "outputs": [],
   "source": [
    "def trainer(hdim, epochs):\n",
    "    W1 = np.random.rand(idim, hdim)/np.sqrt(idim)\n",
    "    b1 = np.zeros((1, hdim))\n",
    "    W2 = np.random.rand(hdim, odim)/np.sqrt(idim)\n",
    "    b2 = np.zeros((1, hdim))\n",
    "    \n",
    "    model = {'W1':W1, 'b1':b1, 'W2': W2, 'b2':b2}\n",
    "    \n",
    "    for epoch in range(epochs):\n",
    "        # inp & hidden layer\n",
    "        z1 = train_x.dot(W1)+b1\n",
    "        a1 = np.tanh(z1)\n",
    "        # hidden layer & output\n",
    "        z2 = a1.dot(W2)+b2\n",
    "        exp_scores = np.exp(z2)\n",
    "        probs = exp_scores/np.sum(exp_scores, axis=1, keepdims=True)\n",
    "\n",
    "        # Backpropagation\n",
    "        delta3 = probs\n",
    "        delta3[range(len(train_x)), train_y] -= 1   # x -= 1  ==> x = 1 -x\n",
    "        dW2 = (a1.T).dot(delta3)\n",
    "        db2 = np.sum(delta3, axis=0, keepdims=True)\n",
    "        \n",
    "        delta2 = delta3.dot(W2.T)*(1-np.power(a1, 2))\n",
    "        dW1 = np.dot(train_x.T, delta2)\n",
    "        db1 = np.dot(delta2, axis=0)\n",
    "        \n",
    "        # add regularization\n",
    "        dW1 += reg_lambda * W1\n",
    "        dW2 += reg_lambda * W2\n",
    "        \n",
    "        # gradient calculation\n",
    "        W1 += -alpha * dW1           \n",
    "        b1 += -alpha * db1\n",
    "        W2 += -alpha * dW2\n",
    "        b2 += -alpha * db2\n",
    "        \n",
    "        \n",
    "        \n",
    "        \n",
    "        "
   ]
  },
  {
   "cell_type": "code",
   "execution_count": null,
   "metadata": {},
   "outputs": [],
   "source": []
  }
 ],
 "metadata": {
  "kernelspec": {
   "display_name": "Python 3",
   "language": "python",
   "name": "python3"
  },
  "language_info": {
   "codemirror_mode": {
    "name": "ipython",
    "version": 3
   },
   "file_extension": ".py",
   "mimetype": "text/x-python",
   "name": "python",
   "nbconvert_exporter": "python",
   "pygments_lexer": "ipython3",
   "version": "3.6.2"
  }
 },
 "nbformat": 4,
 "nbformat_minor": 2
}
