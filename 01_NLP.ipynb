{
 "cells": [
  {
   "cell_type": "markdown",
   "metadata": {},
   "source": [
    "## Word Vector"
   ]
  },
  {
   "cell_type": "code",
   "execution_count": 7,
   "metadata": {},
   "outputs": [],
   "source": [
    "import numpy as np\n",
    "import pandas as pd\n",
    "import matplotlib.pyplot as  plt\n",
    "\n",
    "%matplotlib inline"
   ]
  },
  {
   "cell_type": "code",
   "execution_count": 8,
   "metadata": {},
   "outputs": [],
   "source": [
    "import logging\n",
    "import multiprocessing\n",
    "from gensim.corpora import WikiCorpus\n",
    "from gensim.models import Word2Vec\n",
    "from gensim.models.word2vec import LineSentence"
   ]
  },
  {
   "cell_type": "markdown",
   "metadata": {},
   "source": [
    "```\n",
    "def logging(name, level):\n",
    "    logger = logging.getLogger(name)\n",
    "    logging.basicConfig(format=\"%(asctime)s : %(levelname)s : %(message)s\")\n",
    "    logging.root.setLevel(level=level)\n",
    "```"
   ]
  },
  {
   "cell_type": "code",
   "execution_count": 17,
   "metadata": {},
   "outputs": [],
   "source": [
    "def train_model(inp, out):\n",
    "    logger = logging.getLogger(\"word2vec-training\")\n",
    "    logging.basicConfig(format=\"%(asctime)s : %(levelname)s : %(message)s\")\n",
    "    logging.root.setLevel(level=logging.INFO)\n",
    "    #logging(\"word2vec-training\", \"logging.INFO\")\n",
    "    \n",
    "    model = Word2Vec(LineSentence(inp), size=100, window=5,\n",
    "                    min_count=5, workers=multiprocessing.cpu_count())\n",
    "    \n",
    "    model.init_sims(replace=True)\n",
    "    model.save(out)"
   ]
  },
  {
   "cell_type": "code",
   "execution_count": 18,
   "metadata": {},
   "outputs": [
    {
     "name": "stderr",
     "output_type": "stream",
     "text": [
      "2017-09-23 12:47:41,576 : INFO : collecting all words and their counts\n",
      "2017-09-23 12:47:41,597 : INFO : PROGRESS: at sentence #0, processed 0 words, keeping 0 word types\n",
      "2017-09-23 12:47:41,680 : INFO : collected 11440 word types from a corpus of 105198 raw words and 5000 sentences\n",
      "2017-09-23 12:47:41,682 : INFO : Loading a fresh vocabulary\n",
      "2017-09-23 12:47:41,702 : INFO : min_count=5 retains 2362 unique words (20% of original 11440, drops 9078)\n",
      "2017-09-23 12:47:41,703 : INFO : min_count=5 leaves 90968 word corpus (86% of original 105198, drops 14230)\n",
      "2017-09-23 12:47:41,722 : INFO : deleting the raw counts dictionary of 11440 items\n",
      "2017-09-23 12:47:41,728 : INFO : sample=0.001 downsamples 55 most-common words\n",
      "2017-09-23 12:47:41,731 : INFO : downsampling leaves estimated 70796 word corpus (77.8% of prior 90968)\n",
      "2017-09-23 12:47:41,735 : INFO : estimated required memory for 2362 words and 100 dimensions: 3070600 bytes\n",
      "2017-09-23 12:47:41,753 : INFO : resetting layer weights\n",
      "2017-09-23 12:47:41,810 : INFO : training model with 4 workers on 2362 vocabulary and 100 features, using sg=0 hs=0 sample=0.001 negative=5 window=5\n",
      "2017-09-23 12:47:42,373 : INFO : worker thread finished; awaiting finish of 3 more threads\n",
      "2017-09-23 12:47:42,375 : INFO : worker thread finished; awaiting finish of 2 more threads\n",
      "2017-09-23 12:47:42,382 : INFO : worker thread finished; awaiting finish of 1 more threads\n",
      "2017-09-23 12:47:42,387 : INFO : worker thread finished; awaiting finish of 0 more threads\n",
      "2017-09-23 12:47:42,390 : INFO : training on 525990 raw words (354129 effective words) took 0.6s, 614475 effective words/s\n",
      "2017-09-23 12:47:42,393 : INFO : precomputing L2-norms of word weight vectors\n",
      "2017-09-23 12:47:42,427 : INFO : saving Word2Vec object under word2vec.model, separately None\n",
      "2017-09-23 12:47:42,428 : INFO : not storing attribute syn0norm\n",
      "2017-09-23 12:47:42,430 : INFO : not storing attribute cum_table\n",
      "2017-09-23 12:47:42,461 : INFO : saved word2vec.model\n"
     ]
    }
   ],
   "source": [
    "train_model(\"data/reddit-small.txt\", \"word2vec.model\")"
   ]
  },
  {
   "cell_type": "code",
   "execution_count": 19,
   "metadata": {},
   "outputs": [
    {
     "name": "stderr",
     "output_type": "stream",
     "text": [
      "2017-09-23 12:58:34,361 : INFO : loading Word2Vec object from word2vec.model\n",
      "2017-09-23 12:58:34,394 : INFO : loading wv recursively from word2vec.model.wv.* with mmap=None\n",
      "2017-09-23 12:58:34,396 : INFO : setting ignored attribute syn0norm to None\n",
      "2017-09-23 12:58:34,404 : INFO : setting ignored attribute cum_table to None\n",
      "2017-09-23 12:58:34,406 : INFO : loaded word2vec.model\n"
     ]
    }
   ],
   "source": [
    "model = Word2Vec.load(\"word2vec.model\")"
   ]
  },
  {
   "cell_type": "code",
   "execution_count": 20,
   "metadata": {},
   "outputs": [
    {
     "data": {
      "text/plain": [
       "array([ 0.04299842, -0.00210287, -0.00880035, -0.08522378, -0.08817672,\n",
       "        0.24061784, -0.0367457 , -0.06310907, -0.03914295, -0.02903455,\n",
       "        0.06758396, -0.10153999,  0.09833147, -0.23931736,  0.18460944,\n",
       "        0.00940851,  0.03951518, -0.00881359, -0.16723104, -0.00763027,\n",
       "       -0.09344571, -0.02004526, -0.11682951,  0.00800047, -0.14296281,\n",
       "        0.19845377, -0.10867716,  0.03706482, -0.10137745, -0.1381615 ,\n",
       "        0.06025601,  0.07049808,  0.1427194 , -0.13049455, -0.00603143,\n",
       "        0.02047752, -0.02973599,  0.13603571,  0.05601817,  0.09427408,\n",
       "       -0.00966859, -0.04366736,  0.07928373,  0.02855669, -0.18951257,\n",
       "        0.06192216, -0.06663023, -0.02274433, -0.02263743, -0.07514915,\n",
       "        0.06249481, -0.09202767,  0.01306248,  0.00564152,  0.04090673,\n",
       "        0.08512877, -0.10707233,  0.02166586,  0.01318651,  0.0954906 ,\n",
       "        0.05085073, -0.1216623 ,  0.19160366, -0.0363052 ,  0.13064745,\n",
       "       -0.08109435,  0.19012621,  0.09782867,  0.24658716,  0.02798329,\n",
       "        0.16935232,  0.04689046, -0.15904565, -0.08810442, -0.05795565,\n",
       "        0.11966141, -0.1551784 , -0.04467946, -0.074913  , -0.05742255,\n",
       "        0.03951173, -0.07192744,  0.01787021,  0.07067911,  0.02064017,\n",
       "        0.20142402,  0.05190744,  0.07181177, -0.07697136, -0.07180426,\n",
       "        0.0381519 ,  0.15681325, -0.11872883,  0.04177757, -0.07097446,\n",
       "       -0.10490307,  0.09176835, -0.10658367,  0.00031758,  0.11546472], dtype=float32)"
      ]
     },
     "execution_count": 20,
     "metadata": {},
     "output_type": "execute_result"
    }
   ],
   "source": [
    "model['money'] # model will throw the error if the word is not existing in the corpus"
   ]
  },
  {
   "cell_type": "code",
   "execution_count": 25,
   "metadata": {},
   "outputs": [
    {
     "name": "stderr",
     "output_type": "stream",
     "text": [
      "2017-09-23 13:09:01,528 : INFO : precomputing L2-norms of word weight vectors\n"
     ]
    },
    {
     "data": {
      "text/plain": [
       "[('new', 0.9998865127563477),\n",
       " ('though', 0.9998791217803955),\n",
       " ('makes', 0.9998786449432373),\n",
       " ('which', 0.9998775720596313),\n",
       " ('without', 0.9998770356178284),\n",
       " ('different', 0.9998747706413269),\n",
       " ('end', 0.9998742341995239),\n",
       " ('usually', 0.9998738765716553),\n",
       " ('yeah', 0.9998735785484314),\n",
       " ('either', 0.9998730421066284)]"
      ]
     },
     "execution_count": 25,
     "metadata": {},
     "output_type": "execute_result"
    }
   ],
   "source": [
    "model.most_similar('money')"
   ]
  },
  {
   "cell_type": "code",
   "execution_count": 27,
   "metadata": {},
   "outputs": [
    {
     "data": {
      "text/plain": [
       "0.99980049492176148"
      ]
     },
     "execution_count": 27,
     "metadata": {},
     "output_type": "execute_result"
    }
   ],
   "source": [
    "model.similarity('money', 'amount')"
   ]
  },
  {
   "cell_type": "code",
   "execution_count": 29,
   "metadata": {},
   "outputs": [
    {
     "ename": "FileNotFoundError",
     "evalue": "[Errno 2] No such file or directory: 'money'",
     "output_type": "error",
     "traceback": [
      "\u001b[1;31m---------------------------------------------------------------------------\u001b[0m",
      "\u001b[1;31mFileNotFoundError\u001b[0m                         Traceback (most recent call last)",
      "\u001b[1;32m<ipython-input-29-e7261b1ccbbd>\u001b[0m in \u001b[0;36m<module>\u001b[1;34m()\u001b[0m\n\u001b[1;32m----> 1\u001b[1;33m \u001b[0mmodel\u001b[0m\u001b[1;33m.\u001b[0m\u001b[0maccuracy\u001b[0m\u001b[1;33m(\u001b[0m\u001b[1;34m'money'\u001b[0m\u001b[1;33m)\u001b[0m\u001b[1;33m\u001b[0m\u001b[0m\n\u001b[0m",
      "\u001b[1;32mC:\\Anaconda3\\envs\\tensorflow\\lib\\site-packages\\gensim-2.3.0-py3.5-win-amd64.egg\\gensim\\models\\word2vec.py\u001b[0m in \u001b[0;36maccuracy\u001b[1;34m(self, questions, restrict_vocab, most_similar, case_insensitive)\u001b[0m\n\u001b[0;32m   1358\u001b[0m     \u001b[1;32mdef\u001b[0m \u001b[0maccuracy\u001b[0m\u001b[1;33m(\u001b[0m\u001b[0mself\u001b[0m\u001b[1;33m,\u001b[0m \u001b[0mquestions\u001b[0m\u001b[1;33m,\u001b[0m \u001b[0mrestrict_vocab\u001b[0m\u001b[1;33m=\u001b[0m\u001b[1;36m30000\u001b[0m\u001b[1;33m,\u001b[0m \u001b[0mmost_similar\u001b[0m\u001b[1;33m=\u001b[0m\u001b[1;32mNone\u001b[0m\u001b[1;33m,\u001b[0m \u001b[0mcase_insensitive\u001b[0m\u001b[1;33m=\u001b[0m\u001b[1;32mTrue\u001b[0m\u001b[1;33m)\u001b[0m\u001b[1;33m:\u001b[0m\u001b[1;33m\u001b[0m\u001b[0m\n\u001b[0;32m   1359\u001b[0m         \u001b[0mmost_similar\u001b[0m \u001b[1;33m=\u001b[0m \u001b[0mmost_similar\u001b[0m \u001b[1;32mor\u001b[0m \u001b[0mKeyedVectors\u001b[0m\u001b[1;33m.\u001b[0m\u001b[0mmost_similar\u001b[0m\u001b[1;33m\u001b[0m\u001b[0m\n\u001b[1;32m-> 1360\u001b[1;33m         \u001b[1;32mreturn\u001b[0m \u001b[0mself\u001b[0m\u001b[1;33m.\u001b[0m\u001b[0mwv\u001b[0m\u001b[1;33m.\u001b[0m\u001b[0maccuracy\u001b[0m\u001b[1;33m(\u001b[0m\u001b[0mquestions\u001b[0m\u001b[1;33m,\u001b[0m \u001b[0mrestrict_vocab\u001b[0m\u001b[1;33m,\u001b[0m \u001b[0mmost_similar\u001b[0m\u001b[1;33m,\u001b[0m \u001b[0mcase_insensitive\u001b[0m\u001b[1;33m)\u001b[0m\u001b[1;33m\u001b[0m\u001b[0m\n\u001b[0m\u001b[0;32m   1361\u001b[0m \u001b[1;33m\u001b[0m\u001b[0m\n\u001b[0;32m   1362\u001b[0m     \u001b[1;33m@\u001b[0m\u001b[0mstaticmethod\u001b[0m\u001b[1;33m\u001b[0m\u001b[0m\n",
      "\u001b[1;32mC:\\Anaconda3\\envs\\tensorflow\\lib\\site-packages\\gensim-2.3.0-py3.5-win-amd64.egg\\gensim\\models\\keyedvectors.py\u001b[0m in \u001b[0;36maccuracy\u001b[1;34m(self, questions, restrict_vocab, most_similar, case_insensitive)\u001b[0m\n\u001b[0;32m    666\u001b[0m \u001b[1;33m\u001b[0m\u001b[0m\n\u001b[0;32m    667\u001b[0m         \u001b[0msections\u001b[0m\u001b[1;33m,\u001b[0m \u001b[0msection\u001b[0m \u001b[1;33m=\u001b[0m \u001b[1;33m[\u001b[0m\u001b[1;33m]\u001b[0m\u001b[1;33m,\u001b[0m \u001b[1;32mNone\u001b[0m\u001b[1;33m\u001b[0m\u001b[0m\n\u001b[1;32m--> 668\u001b[1;33m         \u001b[1;32mfor\u001b[0m \u001b[0mline_no\u001b[0m\u001b[1;33m,\u001b[0m \u001b[0mline\u001b[0m \u001b[1;32min\u001b[0m \u001b[0menumerate\u001b[0m\u001b[1;33m(\u001b[0m\u001b[0mutils\u001b[0m\u001b[1;33m.\u001b[0m\u001b[0msmart_open\u001b[0m\u001b[1;33m(\u001b[0m\u001b[0mquestions\u001b[0m\u001b[1;33m)\u001b[0m\u001b[1;33m)\u001b[0m\u001b[1;33m:\u001b[0m\u001b[1;33m\u001b[0m\u001b[0m\n\u001b[0m\u001b[0;32m    669\u001b[0m             \u001b[1;31m# TODO: use level3 BLAS (=evaluate multiple questions at once), for speed\u001b[0m\u001b[1;33m\u001b[0m\u001b[1;33m\u001b[0m\u001b[0m\n\u001b[0;32m    670\u001b[0m             \u001b[0mline\u001b[0m \u001b[1;33m=\u001b[0m \u001b[0mutils\u001b[0m\u001b[1;33m.\u001b[0m\u001b[0mto_unicode\u001b[0m\u001b[1;33m(\u001b[0m\u001b[0mline\u001b[0m\u001b[1;33m)\u001b[0m\u001b[1;33m\u001b[0m\u001b[0m\n",
      "\u001b[1;32mC:\\Anaconda3\\envs\\tensorflow\\lib\\site-packages\\smart_open-1.5.3-py3.5.egg\\smart_open\\smart_open_lib.py\u001b[0m in \u001b[0;36msmart_open\u001b[1;34m(uri, mode, **kw)\u001b[0m\n\u001b[0;32m    138\u001b[0m             \u001b[1;31m# local files -- both read & write supported\u001b[0m\u001b[1;33m\u001b[0m\u001b[1;33m\u001b[0m\u001b[0m\n\u001b[0;32m    139\u001b[0m             \u001b[1;31m# compression, if any, is determined by the filename extension (.gz, .bz2)\u001b[0m\u001b[1;33m\u001b[0m\u001b[1;33m\u001b[0m\u001b[0m\n\u001b[1;32m--> 140\u001b[1;33m             \u001b[1;32mreturn\u001b[0m \u001b[0mfile_smart_open\u001b[0m\u001b[1;33m(\u001b[0m\u001b[0mparsed_uri\u001b[0m\u001b[1;33m.\u001b[0m\u001b[0muri_path\u001b[0m\u001b[1;33m,\u001b[0m \u001b[0mmode\u001b[0m\u001b[1;33m)\u001b[0m\u001b[1;33m\u001b[0m\u001b[0m\n\u001b[0m\u001b[0;32m    141\u001b[0m         \u001b[1;32melif\u001b[0m \u001b[0mparsed_uri\u001b[0m\u001b[1;33m.\u001b[0m\u001b[0mscheme\u001b[0m \u001b[1;32min\u001b[0m \u001b[1;33m(\u001b[0m\u001b[1;34m\"s3\"\u001b[0m\u001b[1;33m,\u001b[0m \u001b[1;34m\"s3n\"\u001b[0m\u001b[1;33m,\u001b[0m \u001b[1;34m\"s3u\"\u001b[0m\u001b[1;33m)\u001b[0m\u001b[1;33m:\u001b[0m\u001b[1;33m\u001b[0m\u001b[0m\n\u001b[0;32m    142\u001b[0m             \u001b[0mkwargs\u001b[0m \u001b[1;33m=\u001b[0m \u001b[1;33m{\u001b[0m\u001b[1;33m}\u001b[0m\u001b[1;33m\u001b[0m\u001b[0m\n",
      "\u001b[1;32mC:\\Anaconda3\\envs\\tensorflow\\lib\\site-packages\\smart_open-1.5.3-py3.5.egg\\smart_open\\smart_open_lib.py\u001b[0m in \u001b[0;36mfile_smart_open\u001b[1;34m(fname, mode)\u001b[0m\n\u001b[0;32m    642\u001b[0m \u001b[1;33m\u001b[0m\u001b[0m\n\u001b[0;32m    643\u001b[0m     \"\"\"\n\u001b[1;32m--> 644\u001b[1;33m     \u001b[1;32mreturn\u001b[0m \u001b[0mcompression_wrapper\u001b[0m\u001b[1;33m(\u001b[0m\u001b[0mopen\u001b[0m\u001b[1;33m(\u001b[0m\u001b[0mfname\u001b[0m\u001b[1;33m,\u001b[0m \u001b[0mmode\u001b[0m\u001b[1;33m)\u001b[0m\u001b[1;33m,\u001b[0m \u001b[0mfname\u001b[0m\u001b[1;33m,\u001b[0m \u001b[0mmode\u001b[0m\u001b[1;33m)\u001b[0m\u001b[1;33m\u001b[0m\u001b[0m\n\u001b[0m\u001b[0;32m    645\u001b[0m \u001b[1;33m\u001b[0m\u001b[0m\n\u001b[0;32m    646\u001b[0m \u001b[1;33m\u001b[0m\u001b[0m\n",
      "\u001b[1;31mFileNotFoundError\u001b[0m: [Errno 2] No such file or directory: 'money'"
     ]
    }
   ],
   "source": [
    "model.accuracy('money')"
   ]
  },
  {
   "cell_type": "code",
   "execution_count": null,
   "metadata": {},
   "outputs": [],
   "source": []
  }
 ],
 "metadata": {
  "kernelspec": {
   "display_name": "Python 3",
   "language": "python",
   "name": "python3"
  },
  "language_info": {
   "codemirror_mode": {
    "name": "ipython",
    "version": 3
   },
   "file_extension": ".py",
   "mimetype": "text/x-python",
   "name": "python",
   "nbconvert_exporter": "python",
   "pygments_lexer": "ipython3",
   "version": "3.5.4"
  }
 },
 "nbformat": 4,
 "nbformat_minor": 2
}
